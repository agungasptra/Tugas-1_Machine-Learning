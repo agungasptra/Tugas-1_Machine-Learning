{
  "nbformat": 4,
  "nbformat_minor": 0,
  "metadata": {
    "colab": {
      "provenance": []
    },
    "kernelspec": {
      "name": "python3",
      "display_name": "Python 3"
    },
    "language_info": {
      "name": "python"
    }
  },
  "cells": [
    {
      "cell_type": "markdown",
      "source": [
        "Agung Aji Saputra\n"
      ],
      "metadata": {
        "id": "J-vHOtFexteL"
      }
    },
    {
      "cell_type": "markdown",
      "source": [
        "1103202114"
      ],
      "metadata": {
        "id": "SyH2M16Vx8MI"
      }
    },
    {
      "cell_type": "code",
      "execution_count": 1,
      "metadata": {
        "id": "E5MDQM9d8xhR"
      },
      "outputs": [],
      "source": [
        "# Install TensorFlow\n",
        "# pip install tensorflow"
      ]
    },
    {
      "cell_type": "code",
      "source": [
        "# Import library yang dibutuhkan\n",
        "import tensorflow as tf\n",
        "import numpy as np\n",
        "import matplotlib.pyplot as plt\n"
      ],
      "metadata": {
        "id": "IwljVcBj8zZX"
      },
      "execution_count": 2,
      "outputs": []
    },
    {
      "cell_type": "code",
      "source": [
        "def generate_data():\n",
        "    X = np.random.uniform(-10, 10, 1000)\n",
        "    y = 2 * X + 2 + np.random.normal(0, 2, 1000)\n",
        "\n",
        "    return X, y\n",
        "\n",
        "X_train, y_train = generate_data()"
      ],
      "metadata": {
        "id": "ELOdABcM8zbm"
      },
      "execution_count": 3,
      "outputs": []
    },
    {
      "cell_type": "code",
      "source": [
        "model = tf.keras.Sequential([\n",
        "    tf.keras.layers.Dense(units=1, input_shape=(1,))\n",
        "])"
      ],
      "metadata": {
        "id": "QROVJzb08zdW"
      },
      "execution_count": 4,
      "outputs": []
    },
    {
      "cell_type": "code",
      "source": [
        "model.compile(optimizer='adam', loss='mean_squared_error')"
      ],
      "metadata": {
        "id": "7mdwdYzQ8zfi"
      },
      "execution_count": 5,
      "outputs": []
    },
    {
      "cell_type": "code",
      "source": [
        "model.fit(X_train, y_train, epochs=50)"
      ],
      "metadata": {
        "colab": {
          "base_uri": "https://localhost:8080/"
        },
        "id": "uI6r-5mN8zhJ",
        "outputId": "29c7cd80-e067-4748-af66-799e120bc96a"
      },
      "execution_count": 6,
      "outputs": [
        {
          "output_type": "stream",
          "name": "stdout",
          "text": [
            "Epoch 1/50\n",
            "32/32 [==============================] - 1s 2ms/step - loss: 119.0167\n",
            "Epoch 2/50\n",
            "32/32 [==============================] - 0s 2ms/step - loss: 115.2652\n",
            "Epoch 3/50\n",
            "32/32 [==============================] - 0s 2ms/step - loss: 111.5827\n",
            "Epoch 4/50\n",
            "32/32 [==============================] - 0s 2ms/step - loss: 108.0146\n",
            "Epoch 5/50\n",
            "32/32 [==============================] - 0s 3ms/step - loss: 104.5034\n",
            "Epoch 6/50\n",
            "32/32 [==============================] - 0s 5ms/step - loss: 101.0914\n",
            "Epoch 7/50\n",
            "32/32 [==============================] - 0s 3ms/step - loss: 97.7996\n",
            "Epoch 8/50\n",
            "32/32 [==============================] - 0s 3ms/step - loss: 94.6124\n",
            "Epoch 9/50\n",
            "32/32 [==============================] - 0s 3ms/step - loss: 91.4820\n",
            "Epoch 10/50\n",
            "32/32 [==============================] - 0s 4ms/step - loss: 88.4401\n",
            "Epoch 11/50\n",
            "32/32 [==============================] - 0s 3ms/step - loss: 85.4320\n",
            "Epoch 12/50\n",
            "32/32 [==============================] - 0s 4ms/step - loss: 82.5325\n",
            "Epoch 13/50\n",
            "32/32 [==============================] - 0s 3ms/step - loss: 79.6952\n",
            "Epoch 14/50\n",
            "32/32 [==============================] - 0s 3ms/step - loss: 76.9551\n",
            "Epoch 15/50\n",
            "32/32 [==============================] - 0s 3ms/step - loss: 74.3141\n",
            "Epoch 16/50\n",
            "32/32 [==============================] - 0s 4ms/step - loss: 71.7307\n",
            "Epoch 17/50\n",
            "32/32 [==============================] - 0s 4ms/step - loss: 69.2165\n",
            "Epoch 18/50\n",
            "32/32 [==============================] - 0s 3ms/step - loss: 66.7919\n",
            "Epoch 19/50\n",
            "32/32 [==============================] - 0s 5ms/step - loss: 64.4389\n",
            "Epoch 20/50\n",
            "32/32 [==============================] - 0s 5ms/step - loss: 62.1271\n",
            "Epoch 21/50\n",
            "32/32 [==============================] - 0s 3ms/step - loss: 59.9042\n",
            "Epoch 22/50\n",
            "32/32 [==============================] - 0s 2ms/step - loss: 57.7378\n",
            "Epoch 23/50\n",
            "32/32 [==============================] - 0s 3ms/step - loss: 55.6298\n",
            "Epoch 24/50\n",
            "32/32 [==============================] - 0s 4ms/step - loss: 53.5887\n",
            "Epoch 25/50\n",
            "32/32 [==============================] - 0s 2ms/step - loss: 51.6167\n",
            "Epoch 26/50\n",
            "32/32 [==============================] - 0s 2ms/step - loss: 49.6986\n",
            "Epoch 27/50\n",
            "32/32 [==============================] - 0s 3ms/step - loss: 47.8412\n",
            "Epoch 28/50\n",
            "32/32 [==============================] - 0s 3ms/step - loss: 46.0564\n",
            "Epoch 29/50\n",
            "32/32 [==============================] - 0s 3ms/step - loss: 44.2988\n",
            "Epoch 30/50\n",
            "32/32 [==============================] - 0s 3ms/step - loss: 42.6293\n",
            "Epoch 31/50\n",
            "32/32 [==============================] - 0s 3ms/step - loss: 40.9993\n",
            "Epoch 32/50\n",
            "32/32 [==============================] - 0s 2ms/step - loss: 39.4039\n",
            "Epoch 33/50\n",
            "32/32 [==============================] - 0s 3ms/step - loss: 37.8664\n",
            "Epoch 34/50\n",
            "32/32 [==============================] - 0s 2ms/step - loss: 36.3726\n",
            "Epoch 35/50\n",
            "32/32 [==============================] - 0s 3ms/step - loss: 34.9447\n",
            "Epoch 36/50\n",
            "32/32 [==============================] - 0s 2ms/step - loss: 33.5327\n",
            "Epoch 37/50\n",
            "32/32 [==============================] - 0s 3ms/step - loss: 32.1966\n",
            "Epoch 38/50\n",
            "32/32 [==============================] - 0s 4ms/step - loss: 30.9010\n",
            "Epoch 39/50\n",
            "32/32 [==============================] - 0s 3ms/step - loss: 29.6544\n",
            "Epoch 40/50\n",
            "32/32 [==============================] - 0s 6ms/step - loss: 28.4514\n",
            "Epoch 41/50\n",
            "32/32 [==============================] - 0s 2ms/step - loss: 27.2780\n",
            "Epoch 42/50\n",
            "32/32 [==============================] - 0s 2ms/step - loss: 26.1666\n",
            "Epoch 43/50\n",
            "32/32 [==============================] - 0s 2ms/step - loss: 25.0894\n",
            "Epoch 44/50\n",
            "32/32 [==============================] - 0s 3ms/step - loss: 24.0445\n",
            "Epoch 45/50\n",
            "32/32 [==============================] - 0s 3ms/step - loss: 23.0569\n",
            "Epoch 46/50\n",
            "32/32 [==============================] - 0s 3ms/step - loss: 22.1038\n",
            "Epoch 47/50\n",
            "32/32 [==============================] - 0s 5ms/step - loss: 21.1774\n",
            "Epoch 48/50\n",
            "32/32 [==============================] - 0s 3ms/step - loss: 20.2993\n",
            "Epoch 49/50\n",
            "32/32 [==============================] - 0s 2ms/step - loss: 19.4567\n",
            "Epoch 50/50\n",
            "32/32 [==============================] - 0s 3ms/step - loss: 18.6481\n"
          ]
        },
        {
          "output_type": "execute_result",
          "data": {
            "text/plain": [
              "<keras.src.callbacks.History at 0x7aed2da03160>"
            ]
          },
          "metadata": {},
          "execution_count": 6
        }
      ]
    },
    {
      "cell_type": "code",
      "source": [
        "X_test = np.linspace(-5, 5, 100).reshape(-1, 1)\n",
        "y_pred = model.predict(X_test)"
      ],
      "metadata": {
        "colab": {
          "base_uri": "https://localhost:8080/"
        },
        "id": "g-kq_Nmr8zjQ",
        "outputId": "825b46a3-5488-4603-e24e-4a2d7f95e0e0"
      },
      "execution_count": 9,
      "outputs": [
        {
          "output_type": "stream",
          "name": "stdout",
          "text": [
            "4/4 [==============================] - 0s 3ms/step\n"
          ]
        }
      ]
    },
    {
      "cell_type": "code",
      "source": [
        "plt.scatter(X_train, y_train, label='Training Data')\n",
        "plt.plot(X_test, y_pred, color='red', label='Predicted Function: 2x + 2')\n",
        "plt.xlabel('x')\n",
        "plt.ylabel('y')\n",
        "plt.legend()\n",
        "plt.show()"
      ],
      "metadata": {
        "colab": {
          "base_uri": "https://localhost:8080/",
          "height": 452
        },
        "id": "CnDoxkfa2Bpm",
        "outputId": "abc1411b-971e-4759-df2a-77abec8c31bf"
      },
      "execution_count": 10,
      "outputs": [
        {
          "output_type": "display_data",
          "data": {
            "text/plain": [
              "<Figure size 640x480 with 1 Axes>"
            ],
            "image/png": "[encoded data removed]"
          },
          "metadata": {}
        }
      ]
    }
  ]
}